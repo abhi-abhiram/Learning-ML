{
 "cells": [
  {
   "cell_type": "markdown",
   "id": "ef35f1c1",
   "metadata": {},
   "source": [
    "## Derivates recap"
   ]
  },
  {
   "cell_type": "code",
   "execution_count": 4,
   "id": "24f1ce31",
   "metadata": {},
   "outputs": [
    {
     "data": {
      "text/plain": [
       "4.000999999999699"
      ]
     },
     "execution_count": 4,
     "metadata": {},
     "output_type": "execute_result"
    }
   ],
   "source": [
    "def fn(x):\n",
    "    return x**2\n",
    "\n",
    "\n",
    "\n",
    "def derivative(fn, h = 0.001):\n",
    "    x = 2\n",
    "    return (fn(x + h) - fn(x))/h\n",
    "\n",
    "\n",
    "derivative(fn)\n"
   ]
  },
  {
   "cell_type": "markdown",
   "id": "c238beb8",
   "metadata": {},
   "source": [
    "## Chain rule recap\n",
    "## Derivate of `f(g(x))` w.r.t x\n",
    "\n",
    "Is given as: \n",
    "\n",
    "```\n",
    "delta(f(g(x)))/delta(x) = delta(f(g(x)))/delta(g(x)) * delta(g(x))/delta(x)\n",
    "```\n",
    "\n"
   ]
  },
  {
   "cell_type": "code",
   "execution_count": null,
   "id": "58ffcc80",
   "metadata": {},
   "outputs": [],
   "source": []
  }
 ],
 "metadata": {
  "kernelspec": {
   "display_name": "base",
   "language": "python",
   "name": "python3"
  },
  "language_info": {
   "codemirror_mode": {
    "name": "ipython",
    "version": 3
   },
   "file_extension": ".py",
   "mimetype": "text/x-python",
   "name": "python",
   "nbconvert_exporter": "python",
   "pygments_lexer": "ipython3",
   "version": "3.13.5"
  }
 },
 "nbformat": 4,
 "nbformat_minor": 5
}
